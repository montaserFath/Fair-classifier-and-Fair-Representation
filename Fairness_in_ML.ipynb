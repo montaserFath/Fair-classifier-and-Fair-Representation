{
 "cells": [
  {
   "cell_type": "markdown",
   "metadata": {},
   "source": [
    "## Import Lib"
   ]
  },
  {
   "cell_type": "code",
   "execution_count": 1,
   "metadata": {},
   "outputs": [],
   "source": [
    "import pandas as pd\n",
    "import numpy as np\n",
    "import torch\n",
    "import torchvision\n",
    "import matplotlib\n",
    "import matplotlib.pyplot as plt\n",
    "\n",
    "from sklearn.linear_model import LogisticRegression\n",
    "from sklearn.ensemble import RandomForestClassifier\n",
    "from sklearn.datasets import make_classification\n",
    "from sklearn.ensemble import ExtraTreesClassifier\n",
    "from sklearn.feature_selection import SelectFromModel\n",
    "from sklearn.feature_selection import SelectKBest, chi2\n",
    "from sklearn.svm import SVC\n",
    "from sklearn import svm\n",
    "from sklearn.utils import resample\n",
    "\n",
    "from scipy.stats import pearsonr\n",
    "\n",
    "import torch\n",
    "import torch.nn as nn\n",
    "import torch.utils.data\n",
    "import torchvision\n",
    "import torch.nn.functional as F\n",
    "\n",
    "\n",
    "from mmd import MMD_torch\n",
    "from mmd import get_mmd_inds"
   ]
  },
  {
   "cell_type": "markdown",
   "metadata": {},
   "source": [
    "## Load data form files"
   ]
  },
  {
   "cell_type": "code",
   "execution_count": 2,
   "metadata": {},
   "outputs": [
    {
     "name": "stdout",
     "output_type": "stream",
     "text": [
      "train_x.shape (32561, 113)\n",
      "train_y.shape (32561, 1)\n",
      "train_a.shape (32561, 1)\n"
     ]
    }
   ],
   "source": [
    "data = np.load(\"adult/adult_train.npz\")\n",
    "train_x = data['x']\n",
    "train_y = data['y']\n",
    "train_a = data['a']\n",
    "print('train_x.shape',train_x.shape)\n",
    "print('train_y.shape',train_y.shape)\n",
    "print('train_a.shape',train_a.shape)"
   ]
  },
  {
   "cell_type": "code",
   "execution_count": 3,
   "metadata": {},
   "outputs": [
    {
     "name": "stdout",
     "output_type": "stream",
     "text": [
      "test_x.shape (16281, 113)\n",
      "test_y.shape (16281, 1)\n",
      "test_a.shape (16281, 1)\n"
     ]
    }
   ],
   "source": [
    "test_data = np.load(\"adult/adult_test.npz\")\n",
    "test_x = test_data['x']\n",
    "test_y = test_data['y']\n",
    "test_a = test_data['a']\n",
    "print('test_x.shape',test_x.shape)\n",
    "print('test_y.shape',test_y.shape)\n",
    "print('test_a.shape',test_a.shape)"
   ]
  },
  {
   "cell_type": "code",
   "execution_count": 4,
   "metadata": {},
   "outputs": [],
   "source": [
    "headers = pd.read_csv(\"adult/adult_headers.txt\", sep=\" \",header=None)\n",
    "headers = np.array(headers)"
   ]
  },
  {
   "cell_type": "markdown",
   "metadata": {},
   "source": [
    "## Create Data Frames"
   ]
  },
  {
   "cell_type": "code",
   "execution_count": 5,
   "metadata": {},
   "outputs": [],
   "source": [
    "train_x_pd = pd.DataFrame(data = train_x, columns = headers[0:113,0], dtype='int')\n",
    "train_y_pd = pd.DataFrame(data = train_y, columns = np.array(headers[113]), dtype='int')\n",
    "\n",
    "test_x_pd = pd.DataFrame(data = test_x, columns = headers[0:113,0], dtype='int')\n",
    "test_y_pd = pd.DataFrame(data = test_y, columns = np.array(headers[113]), dtype='int')"
   ]
  },
  {
   "cell_type": "markdown",
   "metadata": {},
   "source": [
    "## Unbalance in data (income)"
   ]
  },
  {
   "cell_type": "code",
   "execution_count": 69,
   "metadata": {},
   "outputs": [
    {
     "name": "stdout",
     "output_type": "stream",
     "text": [
      "more thank 50k 7841\n",
      "less thank 50k 24720\n"
     ]
    },
    {
     "data": {
      "image/png": "[encoded data removed]",
      "text/plain": [
       "<Figure size 640x480 with 1 Axes>"
      ]
     },
     "metadata": {},
     "output_type": "display_data"
    }
   ],
   "source": [
    "headers = headers.reshape(-1)\n",
    "\n",
    "more_50k = np.count_nonzero(train_y)\n",
    "less_50k = len(train_y)-np.count_nonzero(train_y)\n",
    "print('more thank 50k',more_50k)\n",
    "print('less thank 50k',less_50k)\n",
    "plt.bar(['less thank 50k','more thank 50k'],[less_50k,more_50k] , color=['black', 'red'])\n",
    "plt.xlabel(\"Income\")\n",
    "plt.ylabel(\"Number of samples\")\n",
    "# plt.savefig(\"income_hist\",dpi= 600) #uncomment this i you want to save the image\n",
    "plt.show()\n"
   ]
  },
  {
   "cell_type": "markdown",
   "metadata": {},
   "source": [
    "## Unbalance in data (gender)"
   ]
  },
  {
   "cell_type": "code",
   "execution_count": 7,
   "metadata": {},
   "outputs": [
    {
     "name": "stdout",
     "output_type": "stream",
     "text": [
      "males 21790\n",
      "females 10771\n"
     ]
    },
    {
     "data": {
      "image/png": "[encoded data removed]",
      "text/plain": [
       "<Figure size 432x288 with 1 Axes>"
      ]
     },
     "metadata": {
      "needs_background": "light"
     },
     "output_type": "display_data"
    }
   ],
   "source": [
    "n_females = len(train_a)-np.count_nonzero(train_a)\n",
    "n_males   = np.count_nonzero(train_a)\n",
    "\n",
    "print('males',n_males)\n",
    "print('females',n_females)\n",
    "\n",
    "plt.bar(['Number of males','Number of females'],[n_males,n_females] ,color=['blue', 'red'] )\n",
    "plt.xlabel(\"Gender\")\n",
    "plt.ylabel(\"Number of samples\")\n",
    "# plt.savefig(\"gender_hist\",dpi= 600) #uncomment this i you want to save the image\n",
    "plt.show()"
   ]
  },
  {
   "cell_type": "markdown",
   "metadata": {},
   "source": [
    "## Accuracy Functions\n",
    "\n",
    "$A$: Sensitive Attribute (in this example A= Gender)\n",
    "\n",
    "$ \\hat{Y}$: Classifier Prediction\n",
    "\n",
    "$Y$: True label\n",
    "- Accuracy (A):\n",
    "    $$A = \\frac{1}{n}  \\sum_{i=1}^{n} 1 [ \\hat{Y} = Y]$$\n",
    "- Reweighted Accuracy (R):\n",
    "    $$  R = \\frac{1}{2} \\bigg[ \\frac{1}{n_{A}=0} \\sum_{i=1}^{n} 1 [\\hat{Y}=Y, A=0] +     \\frac{1}{n_{A}=1} \\sum_{i=1}^{n} 1 [\\hat{Y}=Y, A=1] \\bigg] $$\n",
    "- Demographic Parity (DP) Accuracy:\n",
    "    $$ DP = \\bigg| \\frac{1}{n_{A}=0} \\sum_{i=1}^{n} \\hat{Y}(1-A) - \\frac{1}{n_{A}=1} \\sum_{i=1}^{n} \\hat{Y}(A) \\bigg| \n",
    "   \\label{DP_accuracy} $$\n"
   ]
  },
  {
   "cell_type": "code",
   "execution_count": 8,
   "metadata": {},
   "outputs": [],
   "source": [
    "def accuracy (y,y_hat):\n",
    "    count=0\n",
    "    for i in range (len(y_hat)):\n",
    "        if y[i] == y_hat[i]:\n",
    "            count+=1\n",
    "    accuracy= count/len(y_hat)*100\n",
    "    print('accuracy={0:.2f}%'.format(accuracy))"
   ]
  },
  {
   "cell_type": "code",
   "execution_count": 9,
   "metadata": {},
   "outputs": [],
   "source": [
    "def reweighted_accuracy (y,y_hat,A):\n",
    "    count_A0 =0\n",
    "    count_A1 =0\n",
    "    n_A1 = np.count_nonzero(A)\n",
    "    n_A0 = len(A) - np.count_nonzero(A)\n",
    "    for i in range (len(y_hat)):\n",
    "        if y[i] == y_hat[i]:\n",
    "            if A[i] == 1:\n",
    "                count_A1 +=1\n",
    "            else:\n",
    "                count_A0 +=1\n",
    "    accuracy= 0.5* (count_A1/n_A1 + count_A0/n_A0) *100\n",
    "    print('re-weighted accuracy={0:.2f}%'.format(accuracy))"
   ]
  },
  {
   "cell_type": "code",
   "execution_count": 10,
   "metadata": {},
   "outputs": [],
   "source": [
    "def DP_accuracy (y_hat,A):\n",
    "    A , y_hat = A.reshape(-1) , y_hat.reshape(-1)\n",
    "    \n",
    "    sum_A0 = 0\n",
    "    sum_A1 = 0\n",
    "    n_A1 = np.count_nonzero(A)\n",
    "    n_A0 = len(A) - np.count_nonzero(A)\n",
    "    for i in range (len(y_hat)):\n",
    "        sum_A0 += y_hat[i]*(1-A[i])\n",
    "        sum_A1 += y_hat[i]*A[i]\n",
    "    accuracy= abs(sum_A0/n_A0 - sum_A1/n_A1)\n",
    "    print('DP accuracy={0:.2f}'.format(accuracy))"
   ]
  },
  {
   "cell_type": "code",
   "execution_count": 11,
   "metadata": {},
   "outputs": [],
   "source": [
    "def all_accuarcy_fun (y, y_hat , A):\n",
    "    y, y_hat, A = np.array(y), np.array(y_hat), np.array(A)\n",
    "    accuracy (y,y_hat)\n",
    "    reweighted_accuracy (y,y_hat,A)\n",
    "    DP_accuracy (y_hat,A)"
   ]
  },
  {
   "cell_type": "markdown",
   "metadata": {},
   "source": [
    "# Part One: Classifier"
   ]
  },
  {
   "cell_type": "markdown",
   "metadata": {},
   "source": [
    "# classifier Function (Logistic Regression, Random Forest, Linear SVM and SVC )"
   ]
  },
  {
   "cell_type": "code",
   "execution_count": 12,
   "metadata": {},
   "outputs": [],
   "source": [
    "def classifier (train_x , train_y , test_x, test_y, test_a):\n",
    "    \n",
    "    print('############## Linear SVM #############')\n",
    "    linear_svm = svm.LinearSVC(dual=False).fit(train_x, train_y.ravel())\n",
    "    a_hat = linear_svm.predict(test_x)\n",
    "    all_accuarcy_fun(test_y , a_hat , test_a)\n",
    "    \n",
    "    print('############## Logistic Regression #############')\n",
    "    logistic_after_removing_A = LogisticRegression(solver='saga', max_iter=1000).fit(train_x, train_y.ravel())\n",
    "    a_hat = logistic_after_removing_A.predict(test_x)\n",
    "    all_accuarcy_fun(test_y , a_hat ,test_a)\n",
    "\n",
    "    print('############## Random Forest #############')\n",
    "    forest_feature_after_removing_A  = RandomForestClassifier(n_estimators=1000, max_depth=10).fit(train_x, train_y.ravel())\n",
    "    a_hat = forest_feature_after_removing_A.predict(test_x)\n",
    "    all_accuarcy_fun(test_y , a_hat ,test_a)\n",
    "\n",
    "    print('############## SVC #############')\n",
    "    svc = SVC(gamma='auto').fit(train_x, train_y.ravel())\n",
    "    a_hat = svc.predict(test_x)\n",
    "    all_accuarcy_fun(test_y , a_hat , test_a)"
   ]
  },
  {
   "cell_type": "markdown",
   "metadata": {},
   "source": [
    "## Predict Y (income)"
   ]
  },
  {
   "cell_type": "code",
   "execution_count": 13,
   "metadata": {},
   "outputs": [
    {
     "name": "stdout",
     "output_type": "stream",
     "text": [
      "############## Linear SVM #############\n",
      "accuracy=85.65%\n",
      "re-weighted accuracy=87.48%\n",
      "DP accuracy=0.17\n",
      "############## Logistic Regression #############\n"
     ]
    },
    {
     "name": "stderr",
     "output_type": "stream",
     "text": [
      "/home/montaser/anaconda3/lib/python3.6/site-packages/sklearn/linear_model/sag.py:334: ConvergenceWarning: The max_iter was reached which means the coef_ did not converge\n",
      "  \"the coef_ did not converge\", ConvergenceWarning)\n"
     ]
    },
    {
     "name": "stdout",
     "output_type": "stream",
     "text": [
      "accuracy=79.50%\n",
      "re-weighted accuracy=81.92%\n",
      "DP accuracy=0.04\n",
      "############## Random Forest #############\n",
      "accuracy=85.85%\n",
      "re-weighted accuracy=87.67%\n",
      "DP accuracy=0.15\n",
      "############## SVC #############\n",
      "accuracy=86.59%\n",
      "re-weighted accuracy=88.29%\n",
      "DP accuracy=0.16\n"
     ]
    }
   ],
   "source": [
    "classifier(train_x, train_y, test_x, test_y , test_a)"
   ]
  },
  {
   "cell_type": "markdown",
   "metadata": {},
   "source": [
    "## Predict A (Gender)"
   ]
  },
  {
   "cell_type": "code",
   "execution_count": 14,
   "metadata": {},
   "outputs": [
    {
     "name": "stdout",
     "output_type": "stream",
     "text": [
      "############## Linear SVM #############\n",
      "accuracy=84.18%\n",
      "re-weighted accuracy=83.46%\n",
      "DP accuracy=0.67\n",
      "############## Logistic Regression #############\n"
     ]
    },
    {
     "name": "stderr",
     "output_type": "stream",
     "text": [
      "/home/montaser/anaconda3/lib/python3.6/site-packages/sklearn/linear_model/sag.py:334: ConvergenceWarning: The max_iter was reached which means the coef_ did not converge\n",
      "  \"the coef_ did not converge\", ConvergenceWarning)\n"
     ]
    },
    {
     "name": "stdout",
     "output_type": "stream",
     "text": [
      "accuracy=66.70%\n",
      "re-weighted accuracy=50.00%\n",
      "DP accuracy=0.00\n",
      "############## Random Forest #############\n",
      "accuracy=84.45%\n",
      "re-weighted accuracy=81.85%\n",
      "DP accuracy=0.64\n",
      "############## SVC #############\n",
      "accuracy=82.19%\n",
      "re-weighted accuracy=81.71%\n",
      "DP accuracy=0.63\n"
     ]
    }
   ],
   "source": [
    "# removing sex_male and sex_female form training and testing data\n",
    "train_x_without_A = np.delete(train_x,[66,67],1)\n",
    "test_x_without_A = np.delete(test_x, [66,67] ,1)\n",
    "\n",
    "classifier(train_x_without_A, train_a , test_x_without_A , test_a,  test_a)"
   ]
  },
  {
   "cell_type": "markdown",
   "metadata": {},
   "source": [
    "# Pearsonr correlation function"
   ]
  },
  {
   "cell_type": "code",
   "execution_count": 15,
   "metadata": {},
   "outputs": [],
   "source": [
    "def pearsonr_corr (train_x, train_y):\n",
    "    corrl = []\n",
    "    for j in range (train_x.shape[1]):\n",
    "        corr, _ = pearsonr(train_y.reshape(-1), train_x[:,j])\n",
    "        corrl.append(corr)\n",
    "    corrl = abs(np.array(corrl))\n",
    "    sorted_corrl = np.sort(corrl)[::-1][0:10]\n",
    "    features_index = np.argsort(corrl)[::-1][0:10]\n",
    "    print('################ top 10 features ################')\n",
    "    for i in range (len(features_index)):\n",
    "        print('No:{} {}'.format(i+1 , headers[features_index[i]]))\n",
    "    return features_index , sorted_corrl"
   ]
  },
  {
   "cell_type": "markdown",
   "metadata": {},
   "source": [
    "## TOP 10 important features for Y and A"
   ]
  },
  {
   "cell_type": "code",
   "execution_count": 16,
   "metadata": {},
   "outputs": [
    {
     "name": "stdout",
     "output_type": "stream",
     "text": [
      "------------------ Income ------------------\n",
      "################ top 10 features ################\n",
      "No:1 marital-status_Married-civ-spouse\n",
      "No:2 relationship_Husband\n",
      "No:3 education_num\n",
      "No:4 marital-status_Never-married\n",
      "No:5 age_u30\n",
      "No:6 hours-per-week\n",
      "No:7 relationship_Own-child\n",
      "No:8 capital-gain\n",
      "No:9 sex_Male\n",
      "No:10 sex_Female\n",
      "------------------ Gender ------------------\n",
      "################ top 10 features ################\n",
      "No:1 relationship_Husband\n",
      "No:2 marital-status_Married-civ-spouse\n",
      "No:3 relationship_Unmarried\n",
      "No:4 relationship_Wife\n",
      "No:5 occupation_Adm-clerical\n",
      "No:6 capital-gain\n",
      "No:7 marital-status_Divorced\n",
      "No:8 occupation_Craft-repair\n",
      "No:9 marital-status_Widowed\n",
      "No:10 marital-status_Never-married\n"
     ]
    }
   ],
   "source": [
    "print('------------------ Income ------------------')\n",
    "top_10_featurese_y , sorted_corrl_y = pearsonr_corr (train_x, train_y)\n",
    "print('------------------ Gender ------------------')\n",
    "top_10_featurese_a, sorted_corrl_a  = pearsonr_corr (train_x_without_A, train_a)"
   ]
  },
  {
   "cell_type": "markdown",
   "metadata": {},
   "source": [
    "## Plot the most IMpoartace featuers"
   ]
  },
  {
   "cell_type": "code",
   "execution_count": 17,
   "metadata": {},
   "outputs": [
    {
     "data": {
      "image/png": "[encoded data removed]",
      "text/plain": [
       "<Figure size 640x480 with 1 Axes>"
      ]
     },
     "metadata": {},
     "output_type": "display_data"
    }
   ],
   "source": [
    "plt.rcdefaults()\n",
    "fig, ax = plt.subplots()\n",
    "y_pos = np.arange(len(headers[top_10_featurese_y]))\n",
    "ax.barh(y_pos, sorted_corrl_y, align='center')\n",
    "ax.set_yticks(y_pos)\n",
    "ax.set_yticklabels(headers[top_10_featurese_y])\n",
    "ax.invert_yaxis()  # labels read top-to-bottom\n",
    "ax.set_xlabel('Pearson Score')\n",
    "# plt.savefig(\"top_features_y\",dpi= 600 , bbox_inches=\"tight\")\n",
    "plt.show()"
   ]
  },
  {
   "cell_type": "code",
   "execution_count": 18,
   "metadata": {},
   "outputs": [
    {
     "data": {
      "image/png": "[encoded data removed]",
      "text/plain": [
       "<Figure size 640x480 with 1 Axes>"
      ]
     },
     "metadata": {},
     "output_type": "display_data"
    }
   ],
   "source": [
    "plt.rcdefaults()\n",
    "fig, ax = plt.subplots()\n",
    "y_pos = np.arange(len(headers[top_10_featurese_a]))\n",
    "ax.barh(y_pos, sorted_corrl_a, align='center')\n",
    "ax.set_yticks(y_pos)\n",
    "ax.set_yticklabels(headers[top_10_featurese_a])\n",
    "ax.invert_yaxis()  # labels read top-to-bottom\n",
    "ax.set_xlabel('Pearson Score')\n",
    "# plt.savefig(\"top_features_a\",dpi= 600 , bbox_inches=\"tight\")\n",
    "plt.show()"
   ]
  },
  {
   "cell_type": "markdown",
   "metadata": {},
   "source": [
    "## Train model after removing most importace features  "
   ]
  },
  {
   "cell_type": "code",
   "execution_count": 19,
   "metadata": {},
   "outputs": [
    {
     "name": "stdout",
     "output_type": "stream",
     "text": [
      "------------------ Income ------------------\n",
      "############## Linear SVM #############\n",
      "accuracy=83.38%\n",
      "re-weighted accuracy=85.27%\n",
      "DP accuracy=0.13\n",
      "############## Logistic Regression #############\n"
     ]
    },
    {
     "name": "stderr",
     "output_type": "stream",
     "text": [
      "/home/montaser/anaconda3/lib/python3.6/site-packages/sklearn/linear_model/sag.py:334: ConvergenceWarning: The max_iter was reached which means the coef_ did not converge\n",
      "  \"the coef_ did not converge\", ConvergenceWarning)\n"
     ]
    },
    {
     "name": "stdout",
     "output_type": "stream",
     "text": [
      "accuracy=77.15%\n",
      "re-weighted accuracy=80.12%\n",
      "DP accuracy=0.02\n",
      "############## Random Forest #############\n",
      "accuracy=81.84%\n",
      "re-weighted accuracy=84.22%\n",
      "DP accuracy=0.07\n",
      "############## SVC #############\n",
      "accuracy=84.23%\n",
      "re-weighted accuracy=86.09%\n",
      "DP accuracy=0.13\n",
      "------------------ Gender ------------------\n",
      "############## Linear SVM #############\n",
      "accuracy=69.76%\n",
      "re-weighted accuracy=60.76%\n",
      "DP accuracy=0.22\n",
      "############## Logistic Regression #############\n"
     ]
    },
    {
     "name": "stderr",
     "output_type": "stream",
     "text": [
      "/home/montaser/anaconda3/lib/python3.6/site-packages/sklearn/linear_model/sag.py:334: ConvergenceWarning: The max_iter was reached which means the coef_ did not converge\n",
      "  \"the coef_ did not converge\", ConvergenceWarning)\n"
     ]
    },
    {
     "name": "stdout",
     "output_type": "stream",
     "text": [
      "accuracy=66.70%\n",
      "re-weighted accuracy=50.00%\n",
      "DP accuracy=0.00\n",
      "############## Random Forest #############\n",
      "accuracy=69.76%\n",
      "re-weighted accuracy=56.50%\n",
      "DP accuracy=0.13\n",
      "############## SVC #############\n",
      "accuracy=69.12%\n",
      "re-weighted accuracy=57.92%\n",
      "DP accuracy=0.16\n"
     ]
    }
   ],
   "source": [
    "############### Remove importace features form the income #############\n",
    "train_x_without_importace_y = np.delete(train_x,top_10_featurese_y,1)\n",
    "\n",
    "test_x_without_importace_y = np.delete(test_x,top_10_featurese_y,1)\n",
    "############### Remove importace features form the gender #############\n",
    "train_x_without_importace_a = np.delete(train_x_without_A,top_10_featurese_a,1)\n",
    "test_x_without_importace_a = np.delete(test_x_without_A,top_10_featurese_a,1)\n",
    "\n",
    "print('------------------ Income ------------------')\n",
    "classifier(train_x_without_importace_y, train_y , test_x_without_importace_y , test_y,  test_a)\n",
    "print('------------------ Gender ------------------')\n",
    "classifier(train_x_without_importace_a, train_a , test_x_without_importace_a , test_a,  test_a)"
   ]
  },
  {
   "cell_type": "markdown",
   "metadata": {},
   "source": [
    "## Train model with 3 corrilated features only"
   ]
  },
  {
   "cell_type": "code",
   "execution_count": 20,
   "metadata": {},
   "outputs": [
    {
     "name": "stdout",
     "output_type": "stream",
     "text": [
      "------------------ Income ------------------\n",
      "############## Linear SVM #############\n",
      "accuracy=82.34%\n",
      "re-weighted accuracy=84.58%\n",
      "DP accuracy=0.15\n",
      "############## Logistic Regression #############\n",
      "accuracy=82.34%\n",
      "re-weighted accuracy=84.58%\n",
      "DP accuracy=0.15\n",
      "############## Random Forest #############\n",
      "accuracy=82.21%\n",
      "re-weighted accuracy=84.47%\n",
      "DP accuracy=0.12\n",
      "############## SVC #############\n",
      "accuracy=82.21%\n",
      "re-weighted accuracy=84.47%\n",
      "DP accuracy=0.12\n",
      "------------------ Gender ------------------\n",
      "############## Linear SVM #############\n",
      "accuracy=76.73%\n",
      "re-weighted accuracy=67.20%\n",
      "DP accuracy=0.34\n",
      "############## Logistic Regression #############\n",
      "accuracy=76.73%\n",
      "re-weighted accuracy=67.20%\n",
      "DP accuracy=0.34\n",
      "############## Random Forest #############\n",
      "accuracy=76.73%\n",
      "re-weighted accuracy=67.20%\n",
      "DP accuracy=0.34\n",
      "############## SVC #############\n",
      "accuracy=76.73%\n",
      "re-weighted accuracy=67.20%\n",
      "DP accuracy=0.34\n"
     ]
    }
   ],
   "source": [
    "############### Remove importace features form the income #############\n",
    "train_x_with_importace_y_olny = train_x[:,top_10_featurese_y[0:3]]\n",
    "test_x_with_importace_y_only = test_x[:,top_10_featurese_y[0:3]]\n",
    "\n",
    "\n",
    "\n",
    "############### Remove importace features form the gender #############\n",
    "train_x_with_importace_a_only = train_x_without_A[:,top_10_featurese_a[0:3]]\n",
    "test_x_with_importace_a_only = test_x_without_A[:,top_10_featurese_a[0:3]]\n",
    "\n",
    "\n",
    "\n",
    "print('------------------ Income ------------------')\n",
    "classifier(train_x_with_importace_y_olny, train_y , test_x_with_importace_y_only , test_y,  test_a)\n",
    "print('------------------ Gender ------------------')\n",
    "classifier(train_x_with_importace_a_only, train_a , test_x_with_importace_a_only , test_a,  test_a)"
   ]
  },
  {
   "cell_type": "markdown",
   "metadata": {},
   "source": [
    "# Using Trees to calculate correlation"
   ]
  },
  {
   "cell_type": "markdown",
   "metadata": {},
   "source": [
    "## TOP 10 important features for Y and A"
   ]
  },
  {
   "cell_type": "code",
   "execution_count": 21,
   "metadata": {},
   "outputs": [],
   "source": [
    "def tress_features (train_x, train_y):\n",
    "    features = ExtraTreesClassifier(n_estimators=1000).fit(train_x, train_y.ravel())\n",
    "    importance = np.array(features.feature_importances_)\n",
    "\n",
    "    sorted_importance = np.sort(importance)[::-1]\n",
    "    top_featurese_y = np.argsort(importance)[::-1]\n",
    "    top_10_featurese_y = top_featurese_y[0:10]\n",
    "    top_10_score_y = sorted_importance[0:10]\n",
    "    features_10_names_y = []\n",
    "    print('################ top 10 features ################')\n",
    "    c=1\n",
    "    for i in top_10_featurese_y:\n",
    "        features_10_names_y.append(headers[i])\n",
    "        print(\"No:{} {} P={:0.4f}\".format(c,headers[i],top_10_score_y[c-1]))\n",
    "        c+=1\n",
    "    return top_10_featurese_y, top_10_score_y"
   ]
  },
  {
   "cell_type": "code",
   "execution_count": 22,
   "metadata": {},
   "outputs": [
    {
     "name": "stdout",
     "output_type": "stream",
     "text": [
      "------------------ Income ------------------\n",
      "################ top 10 features ################\n",
      "No:1 hours-per-week P=0.1623\n",
      "No:2 capital-gain P=0.0879\n",
      "No:3 marital-status_Married-civ-spouse P=0.0785\n",
      "No:4 relationship_Husband P=0.0528\n",
      "No:5 education_num P=0.0420\n",
      "No:6 marital-status_Never-married P=0.0319\n",
      "No:7 capital-loss P=0.0314\n",
      "No:8 occupation_Exec-managerial P=0.0285\n",
      "No:9 age_u30 P=0.0271\n",
      "No:10 occupation_Prof-specialty P=0.0240\n",
      "------------------ Gender ------------------\n",
      "################ top 10 features ################\n",
      "No:1 relationship_Husband P=0.1803\n",
      "No:2 capital-gain P=0.1199\n",
      "No:3 relationship_Wife P=0.0831\n",
      "No:4 marital-status_Married-civ-spouse P=0.0792\n",
      "No:5 relationship_Unmarried P=0.0468\n",
      "No:6 occupation_Craft-repair P=0.0351\n",
      "No:7 occupation_Adm-clerical P=0.0348\n",
      "No:8 marital-status_Never-married P=0.0222\n",
      "No:9 relationship_Not-in-family P=0.0220\n",
      "No:10 marital-status_Divorced P=0.0199\n"
     ]
    }
   ],
   "source": [
    "print('------------------ Income ------------------')\n",
    "top_10_featurese_y , top_10_score_y = tress_features (train_x, train_y)\n",
    "print('------------------ Gender ------------------')\n",
    "top_10_featurese_a , top_10_score_a = tress_features (train_x_without_A, train_a)"
   ]
  },
  {
   "cell_type": "markdown",
   "metadata": {},
   "source": [
    "## Plot top Features A, Y"
   ]
  },
  {
   "cell_type": "code",
   "execution_count": 23,
   "metadata": {},
   "outputs": [
    {
     "data": {
      "image/png": "[encoded data removed]",
      "text/plain": [
       "<Figure size 640x480 with 1 Axes>"
      ]
     },
     "metadata": {},
     "output_type": "display_data"
    }
   ],
   "source": [
    "plt.rcdefaults()\n",
    "fig, ax = plt.subplots()\n",
    "y_pos = np.arange(len(headers[top_10_featurese_y]))\n",
    "ax.barh(y_pos, top_10_score_y, align='center')\n",
    "ax.set_yticks(y_pos)\n",
    "ax.set_yticklabels(headers[top_10_featurese_y])\n",
    "ax.invert_yaxis()  # labels read top-to-bottom\n",
    "ax.set_xlabel('Probability')\n",
    "plt.savefig(\"top_features_y_tress\",dpi= 600 , bbox_inches=\"tight\")\n",
    "plt.show()"
   ]
  },
  {
   "cell_type": "code",
   "execution_count": 24,
   "metadata": {},
   "outputs": [
    {
     "data": {
      "image/png": "[encoded data removed]",
      "text/plain": [
       "<Figure size 640x480 with 1 Axes>"
      ]
     },
     "metadata": {},
     "output_type": "display_data"
    }
   ],
   "source": [
    "plt.rcdefaults()\n",
    "fig, ax = plt.subplots()\n",
    "y_pos = np.arange(len(headers[top_10_featurese_a]))\n",
    "ax.barh(y_pos, top_10_score_a, align='center')\n",
    "ax.set_yticks(y_pos)\n",
    "ax.set_yticklabels(headers[top_10_featurese_a])\n",
    "ax.invert_yaxis()  # labels read top-to-bottom\n",
    "ax.set_xlabel('Probability')\n",
    "plt.savefig(\"top_features_a_tress\",dpi= 600 , bbox_inches=\"tight\")\n",
    "plt.show()"
   ]
  },
  {
   "cell_type": "markdown",
   "metadata": {},
   "source": [
    "## Train model after removing most importace features  "
   ]
  },
  {
   "cell_type": "code",
   "execution_count": 25,
   "metadata": {},
   "outputs": [
    {
     "name": "stdout",
     "output_type": "stream",
     "text": [
      "------------------ Income ------------------\n",
      "############## Linear SVM #############\n",
      "accuracy=83.76%\n",
      "re-weighted accuracy=85.70%\n",
      "DP accuracy=0.17\n",
      "############## Logistic Regression #############\n",
      "accuracy=83.69%\n",
      "re-weighted accuracy=85.66%\n",
      "DP accuracy=0.18\n",
      "############## Random Forest #############\n",
      "accuracy=81.79%\n",
      "re-weighted accuracy=83.99%\n",
      "DP accuracy=0.11\n",
      "############## SVC #############\n",
      "accuracy=83.24%\n",
      "re-weighted accuracy=85.33%\n",
      "DP accuracy=0.17\n",
      "------------------ Gender ------------------\n",
      "############## Linear SVM #############\n",
      "accuracy=70.87%\n",
      "re-weighted accuracy=60.68%\n",
      "DP accuracy=0.21\n",
      "############## Logistic Regression #############\n"
     ]
    },
    {
     "name": "stderr",
     "output_type": "stream",
     "text": [
      "/home/montaser/anaconda3/lib/python3.6/site-packages/sklearn/linear_model/sag.py:334: ConvergenceWarning: The max_iter was reached which means the coef_ did not converge\n",
      "  \"the coef_ did not converge\", ConvergenceWarning)\n"
     ]
    },
    {
     "name": "stdout",
     "output_type": "stream",
     "text": [
      "accuracy=66.70%\n",
      "re-weighted accuracy=50.00%\n",
      "DP accuracy=0.00\n",
      "############## Random Forest #############\n",
      "accuracy=70.04%\n",
      "re-weighted accuracy=56.41%\n",
      "DP accuracy=0.13\n",
      "############## SVC #############\n",
      "accuracy=70.08%\n",
      "re-weighted accuracy=58.32%\n",
      "DP accuracy=0.17\n"
     ]
    }
   ],
   "source": [
    "############### Remove importace features form the income #############\n",
    "train_x_without_importace_y = np.delete(train_x,top_10_featurese_y,1)\n",
    "test_x_without_importace_y = np.delete(test_x,top_10_featurese_y,1)\n",
    "\n",
    "############### Remove importace features form the gender #############\n",
    "train_x_without_importace_a = np.delete(train_x_without_A,top_10_featurese_a,1)\n",
    "test_x_without_importace_a = np.delete(test_x_without_A,top_10_featurese_a,1)\n",
    "\n",
    "print('------------------ Income ------------------')\n",
    "classifier(train_x_without_importace_y, train_y , test_x_without_importace_y , test_y,  test_a)\n",
    "print('------------------ Gender ------------------')\n",
    "classifier(train_x_without_importace_a, train_a , test_x_without_importace_a , test_a,  test_a)"
   ]
  },
  {
   "cell_type": "markdown",
   "metadata": {},
   "source": [
    "## Train model with most importace features only"
   ]
  },
  {
   "cell_type": "code",
   "execution_count": 26,
   "metadata": {},
   "outputs": [
    {
     "name": "stdout",
     "output_type": "stream",
     "text": [
      "------------------ Income ------------------\n",
      "############## Linear SVM #############\n",
      "accuracy=84.77%\n",
      "re-weighted accuracy=86.77%\n",
      "DP accuracy=0.16\n",
      "############## Logistic Regression #############\n"
     ]
    },
    {
     "name": "stderr",
     "output_type": "stream",
     "text": [
      "/home/montaser/anaconda3/lib/python3.6/site-packages/sklearn/linear_model/sag.py:334: ConvergenceWarning: The max_iter was reached which means the coef_ did not converge\n",
      "  \"the coef_ did not converge\", ConvergenceWarning)\n"
     ]
    },
    {
     "name": "stdout",
     "output_type": "stream",
     "text": [
      "accuracy=79.50%\n",
      "re-weighted accuracy=81.92%\n",
      "DP accuracy=0.04\n",
      "############## Random Forest #############\n",
      "accuracy=86.17%\n",
      "re-weighted accuracy=87.97%\n",
      "DP accuracy=0.15\n",
      "############## SVC #############\n",
      "accuracy=86.06%\n",
      "re-weighted accuracy=87.78%\n",
      "DP accuracy=0.16\n",
      "------------------ Gender ------------------\n",
      "############## Linear SVM #############\n",
      "accuracy=81.78%\n",
      "re-weighted accuracy=79.13%\n",
      "DP accuracy=0.58\n",
      "############## Logistic Regression #############\n",
      "accuracy=81.76%\n",
      "re-weighted accuracy=79.12%\n",
      "DP accuracy=0.58\n",
      "############## Random Forest #############\n",
      "accuracy=81.87%\n",
      "re-weighted accuracy=79.47%\n",
      "DP accuracy=0.59\n",
      "############## SVC #############\n",
      "accuracy=81.79%\n",
      "re-weighted accuracy=80.22%\n",
      "DP accuracy=0.60\n"
     ]
    }
   ],
   "source": [
    "############### Remove importace features form the income #############\n",
    "train_x_with_importace_y_olny = train_x[:,top_10_featurese_y]\n",
    "test_x_with_importace_y_only = test_x[:,top_10_featurese_y]\n",
    "\n",
    "############### Remove importace features form the gender #############\n",
    "train_x_with_importace_a_only = train_x_without_A[:,top_10_featurese_a]\n",
    "test_x_with_importace_a_only = test_x_without_A[:,top_10_featurese_a]\n",
    "\n",
    "\n",
    "print('------------------ Income ------------------')\n",
    "classifier(train_x_with_importace_y_olny, train_y , test_x_with_importace_y_only , test_y,  test_a)\n",
    "print('------------------ Gender ------------------')\n",
    "classifier(train_x_with_importace_a_only, train_a , test_x_with_importace_a_only , test_a,  test_a)"
   ]
  },
  {
   "cell_type": "markdown",
   "metadata": {},
   "source": [
    "# Make data balanced by random down sampling"
   ]
  },
  {
   "cell_type": "code",
   "execution_count": 27,
   "metadata": {},
   "outputs": [],
   "source": [
    "def down_sampling (x , y):\n",
    "\n",
    "    training_all = np.concatenate((x,y), axis=1)\n",
    "\n",
    "    ones_training = []\n",
    "    zeros_training = []\n",
    "    \n",
    "    for i in range (len(y)):\n",
    "        if training_all[i,-1] == 1:\n",
    "            ones_training.append(training_all[i])\n",
    "        else:\n",
    "            zeros_training.append(training_all[i])\n",
    "    \n",
    "    ones_training , zeros_training = np.array(ones_training) , np.array(zeros_training)\n",
    " \n",
    "    \n",
    "    if ones_training.shape[0] < zeros_training.shape[0]:\n",
    "        new_zeros_training = resample(zeros_training , n_samples = ones_training.shape[0])\n",
    "        new_ones_training = ones_training\n",
    "    else:\n",
    "        new_ones_training = resample(ones_training , n_samples = zeros_training.shape[0])\n",
    "        new_zeros_training = zeros_training\n",
    " \n",
    "    \n",
    "    new_training_all = np.concatenate((new_ones_training ,  new_zeros_training) , axis=0)\n",
    "    \n",
    "    np.random.shuffle(new_training_all)\n",
    "\n",
    "    return new_training_all"
   ]
  },
  {
   "cell_type": "code",
   "execution_count": 28,
   "metadata": {},
   "outputs": [
    {
     "name": "stdout",
     "output_type": "stream",
     "text": [
      "less thank 50k 7841\n",
      "more thank 50k 7841\n"
     ]
    },
    {
     "data": {
      "image/png": "[encoded data removed]",
      "text/plain": [
       "<Figure size 640x480 with 1 Axes>"
      ]
     },
     "metadata": {},
     "output_type": "display_data"
    }
   ],
   "source": [
    "balanced_train_x_y = down_sampling (train_x,train_y)\n",
    "\n",
    "# remove labels for income(Y)\n",
    "balanced_train_y = balanced_train_x_y[:,-1]\n",
    "\n",
    "balanced_train_x_y = np.delete(balanced_train_x_y, -1 ,axis= 1) \n",
    "\n",
    "#plot\n",
    "less_50k = np.count_nonzero(balanced_train_y)\n",
    "more_50k = len(balanced_train_y) - less_50k\n",
    "print('less thank 50k',less_50k)\n",
    "print('more thank 50k',more_50k)\n",
    "\n",
    "plt.bar(['less thank 50k','more thank 50k'],[less_50k,more_50k] , color=['black', 'red'])\n",
    "plt.xlabel(\"Income\")\n",
    "plt.ylabel(\"Number of samples\")\n",
    "# plt.savefig(\"income_hist_balanced\",dpi= 600)\n",
    "plt.show()"
   ]
  },
  {
   "cell_type": "code",
   "execution_count": 29,
   "metadata": {},
   "outputs": [
    {
     "name": "stdout",
     "output_type": "stream",
     "text": [
      "males 10771\n",
      "females 10771\n"
     ]
    },
    {
     "data": {
      "image/png": "[encoded data removed]",
      "text/plain": [
       "<Figure size 640x480 with 1 Axes>"
      ]
     },
     "metadata": {},
     "output_type": "display_data"
    }
   ],
   "source": [
    "balanced_train_x_a = down_sampling(train_x_without_A , train_a)\n",
    "# remove labels for sex (A)\n",
    "balanced_train_a = balanced_train_x_a [:,-1]\n",
    "balanced_train_x_a = np.delete(balanced_train_x_a, -1 , axis = 1)\n",
    "\n",
    "#plot\n",
    "n_males   = np.count_nonzero(balanced_train_a)\n",
    "n_females = len(balanced_train_a) - n_males\n",
    "\n",
    "\n",
    "print('males',n_males)\n",
    "print('females',n_females)\n",
    "\n",
    "plt.bar(['Number of males','Number of females'],[n_males,n_females] ,color=['blue', 'red'] )\n",
    "plt.xlabel(\"Gender\")\n",
    "plt.ylabel(\"Number of samples\")\n",
    "# plt.savefig(\"gender_hist__balanced\",dpi= 600)\n",
    "plt.show()"
   ]
  },
  {
   "cell_type": "markdown",
   "metadata": {},
   "source": [
    "## Predict Y (income) and A (Gender) after Down-sampling"
   ]
  },
  {
   "cell_type": "code",
   "execution_count": 30,
   "metadata": {},
   "outputs": [
    {
     "name": "stdout",
     "output_type": "stream",
     "text": [
      "------------------ Income ------------------\n",
      "############## Linear SVM #############\n",
      "accuracy=78.61%\n",
      "re-weighted accuracy=81.60%\n",
      "DP accuracy=0.37\n",
      "############## Logistic Regression #############\n"
     ]
    },
    {
     "name": "stderr",
     "output_type": "stream",
     "text": [
      "/home/montaser/anaconda3/lib/python3.6/site-packages/sklearn/linear_model/sag.py:334: ConvergenceWarning: The max_iter was reached which means the coef_ did not converge\n",
      "  \"the coef_ did not converge\", ConvergenceWarning)\n"
     ]
    },
    {
     "name": "stdout",
     "output_type": "stream",
     "text": [
      "accuracy=78.13%\n",
      "re-weighted accuracy=80.38%\n",
      "DP accuracy=0.05\n",
      "############## Random Forest #############\n",
      "accuracy=78.50%\n",
      "re-weighted accuracy=81.59%\n",
      "DP accuracy=0.39\n",
      "############## SVC #############\n",
      "accuracy=80.87%\n",
      "re-weighted accuracy=83.55%\n",
      "DP accuracy=0.36\n",
      "------------------ Gender ------------------\n",
      "############## Linear SVM #############\n",
      "accuracy=82.20%\n",
      "re-weighted accuracy=85.30%\n",
      "DP accuracy=0.71\n",
      "############## Logistic Regression #############\n"
     ]
    },
    {
     "name": "stderr",
     "output_type": "stream",
     "text": [
      "/home/montaser/anaconda3/lib/python3.6/site-packages/sklearn/linear_model/sag.py:334: ConvergenceWarning: The max_iter was reached which means the coef_ did not converge\n",
      "  \"the coef_ did not converge\", ConvergenceWarning)\n"
     ]
    },
    {
     "name": "stdout",
     "output_type": "stream",
     "text": [
      "accuracy=66.80%\n",
      "re-weighted accuracy=50.24%\n",
      "DP accuracy=0.00\n",
      "############## Random Forest #############\n",
      "accuracy=80.47%\n",
      "re-weighted accuracy=84.85%\n",
      "DP accuracy=0.70\n",
      "############## SVC #############\n",
      "accuracy=79.49%\n",
      "re-weighted accuracy=82.44%\n",
      "DP accuracy=0.65\n"
     ]
    }
   ],
   "source": [
    "print('------------------ Income ------------------')\n",
    "classifier(balanced_train_x_y, balanced_train_y , test_x , test_y,  test_a)\n",
    "print('------------------ Gender ------------------')\n",
    "classifier(balanced_train_x_a, balanced_train_a , test_x_without_A , test_a,  test_a)"
   ]
  },
  {
   "cell_type": "markdown",
   "metadata": {},
   "source": [
    "## the Top features with Pearson"
   ]
  },
  {
   "cell_type": "code",
   "execution_count": 31,
   "metadata": {},
   "outputs": [
    {
     "name": "stdout",
     "output_type": "stream",
     "text": [
      "------------------ Income ------------------\n",
      "################ top 10 features ################\n",
      "No:1 country_Holand-Netherlands\n",
      "No:2 marital-status_Married-civ-spouse\n",
      "No:3 relationship_Husband\n",
      "No:4 marital-status_Never-married\n",
      "No:5 education_num\n",
      "No:6 relationship_Own-child\n",
      "No:7 age_u30\n",
      "No:8 sex_Male\n",
      "No:9 sex_Female\n",
      "No:10 hours-per-week\n",
      "------------------ Gender ------------------\n",
      "################ top 10 features ################\n",
      "No:1 relationship_Husband\n",
      "No:2 marital-status_Married-civ-spouse\n",
      "No:3 relationship_Unmarried\n",
      "No:4 relationship_Wife\n",
      "No:5 occupation_Craft-repair\n",
      "No:6 capital-gain\n",
      "No:7 occupation_Adm-clerical\n",
      "No:8 marital-status_Divorced\n",
      "No:9 marital-status_Never-married\n",
      "No:10 marital-status_Widowed\n"
     ]
    },
    {
     "name": "stderr",
     "output_type": "stream",
     "text": [
      "/home/montaser/anaconda3/lib/python3.6/site-packages/scipy/stats/stats.py:3038: RuntimeWarning: invalid value encountered in double_scalars\n",
      "  r = r_num / r_den\n"
     ]
    }
   ],
   "source": [
    "print('------------------ Income ------------------')\n",
    "top_10_featurese_y , sorted_corrl_y = pearsonr_corr(balanced_train_x_y, balanced_train_y)\n",
    "print('------------------ Gender ------------------')\n",
    "top_10_featurese_a , sorted_corrl_a = pearsonr_corr(balanced_train_x_a, balanced_train_a)"
   ]
  },
  {
   "cell_type": "code",
   "execution_count": 32,
   "metadata": {},
   "outputs": [
    {
     "data": {
      "image/png": "[encoded data removed]",
      "text/plain": [
       "<Figure size 640x480 with 1 Axes>"
      ]
     },
     "metadata": {},
     "output_type": "display_data"
    }
   ],
   "source": [
    "plt.rcdefaults()\n",
    "fig, ax = plt.subplots()\n",
    "y_pos = np.arange(len(headers[top_10_featurese_y]))\n",
    "ax.barh(y_pos, sorted_corrl_y, align='center')\n",
    "ax.set_yticks(y_pos)\n",
    "ax.set_yticklabels(headers[top_10_featurese_y])\n",
    "ax.invert_yaxis()  # labels read top-to-bottom\n",
    "ax.set_xlabel('Pearson Score')\n",
    "plt.savefig(\"balanced_top_features_y\",dpi= 600 , bbox_inches=\"tight\")\n",
    "plt.show()"
   ]
  },
  {
   "cell_type": "code",
   "execution_count": 33,
   "metadata": {},
   "outputs": [
    {
     "data": {
      "image/png": "[encoded data removed]",
      "text/plain": [
       "<Figure size 640x480 with 1 Axes>"
      ]
     },
     "metadata": {},
     "output_type": "display_data"
    }
   ],
   "source": [
    "plt.rcdefaults()\n",
    "fig, ax = plt.subplots()\n",
    "y_pos = np.arange(len(headers[top_10_featurese_a]))\n",
    "ax.barh(y_pos, sorted_corrl_a, align='center')\n",
    "ax.set_yticks(y_pos)\n",
    "ax.set_yticklabels(headers[top_10_featurese_a])\n",
    "ax.invert_yaxis()  # labels read top-to-bottom\n",
    "ax.set_xlabel('Pearson Score')\n",
    "plt.savefig(\"balanced_top_features_a\",dpi= 600 , bbox_inches=\"tight\")\n",
    "plt.show()"
   ]
  },
  {
   "cell_type": "markdown",
   "metadata": {},
   "source": [
    "## Train model after removing most importace features  "
   ]
  },
  {
   "cell_type": "code",
   "execution_count": 34,
   "metadata": {},
   "outputs": [
    {
     "name": "stdout",
     "output_type": "stream",
     "text": [
      "------------------ Income ------------------\n",
      "############## Linear SVM #############\n",
      "accuracy=79.07%\n",
      "re-weighted accuracy=80.95%\n",
      "DP accuracy=0.26\n",
      "############## Logistic Regression #############\n"
     ]
    },
    {
     "name": "stderr",
     "output_type": "stream",
     "text": [
      "/home/montaser/anaconda3/lib/python3.6/site-packages/sklearn/linear_model/sag.py:334: ConvergenceWarning: The max_iter was reached which means the coef_ did not converge\n",
      "  \"the coef_ did not converge\", ConvergenceWarning)\n"
     ]
    },
    {
     "name": "stdout",
     "output_type": "stream",
     "text": [
      "accuracy=78.12%\n",
      "re-weighted accuracy=80.36%\n",
      "DP accuracy=0.05\n",
      "############## Random Forest #############\n",
      "accuracy=79.73%\n",
      "re-weighted accuracy=81.58%\n",
      "DP accuracy=0.24\n",
      "############## SVC #############\n",
      "accuracy=81.65%\n",
      "re-weighted accuracy=83.53%\n",
      "DP accuracy=0.27\n",
      "------------------ Gender ------------------\n",
      "############## Linear SVM #############\n",
      "accuracy=68.53%\n",
      "re-weighted accuracy=69.33%\n",
      "DP accuracy=0.39\n",
      "############## Logistic Regression #############\n"
     ]
    },
    {
     "name": "stderr",
     "output_type": "stream",
     "text": [
      "/home/montaser/anaconda3/lib/python3.6/site-packages/sklearn/linear_model/sag.py:334: ConvergenceWarning: The max_iter was reached which means the coef_ did not converge\n",
      "  \"the coef_ did not converge\", ConvergenceWarning)\n"
     ]
    },
    {
     "name": "stdout",
     "output_type": "stream",
     "text": [
      "accuracy=39.98%\n",
      "re-weighted accuracy=52.71%\n",
      "DP accuracy=0.05\n",
      "############## Random Forest #############\n",
      "accuracy=69.30%\n",
      "re-weighted accuracy=69.87%\n",
      "DP accuracy=0.40\n",
      "############## SVC #############\n",
      "accuracy=68.88%\n",
      "re-weighted accuracy=69.33%\n",
      "DP accuracy=0.39\n"
     ]
    }
   ],
   "source": [
    "############### Remove importace features form the income #############\n",
    "train_x_without_importace_y = np.delete(balanced_train_x_y,top_10_featurese_y,1)\n",
    "test_x_without_importace_y = np.delete(test_x,top_10_featurese_y,1)\n",
    "\n",
    "############### Remove importace features form the gender #############\n",
    "train_x_without_importace_a = np.delete(balanced_train_x_a,top_10_featurese_a,1)\n",
    "test_x_without_importace_a = np.delete(test_x_without_A,top_10_featurese_a,1)\n",
    "print('------------------ Income ------------------')\n",
    "classifier(train_x_without_importace_y, balanced_train_y , test_x_without_importace_y , test_y,  test_a)\n",
    "print('------------------ Gender ------------------')\n",
    "classifier(train_x_without_importace_a, balanced_train_a , test_x_without_importace_a , test_a,  test_a)"
   ]
  },
  {
   "cell_type": "markdown",
   "metadata": {},
   "source": [
    "## Train model with most importace features only "
   ]
  },
  {
   "cell_type": "code",
   "execution_count": 35,
   "metadata": {},
   "outputs": [
    {
     "name": "stdout",
     "output_type": "stream",
     "text": [
      "------------------ Income ------------------\n",
      "############## Linear SVM #############\n",
      "accuracy=76.85%\n",
      "re-weighted accuracy=79.99%\n",
      "DP accuracy=0.41\n",
      "############## Logistic Regression #############\n",
      "accuracy=77.20%\n",
      "re-weighted accuracy=80.33%\n",
      "DP accuracy=0.40\n",
      "############## Random Forest #############\n",
      "accuracy=76.91%\n",
      "re-weighted accuracy=79.83%\n",
      "DP accuracy=0.37\n",
      "############## SVC #############\n",
      "accuracy=77.31%\n",
      "re-weighted accuracy=80.28%\n",
      "DP accuracy=0.37\n",
      "------------------ Gender ------------------\n",
      "############## Linear SVM #############\n",
      "accuracy=77.85%\n",
      "re-weighted accuracy=82.69%\n",
      "DP accuracy=0.65\n",
      "############## Logistic Regression #############\n",
      "accuracy=78.28%\n",
      "re-weighted accuracy=82.51%\n",
      "DP accuracy=0.65\n",
      "############## Random Forest #############\n",
      "accuracy=78.71%\n",
      "re-weighted accuracy=82.54%\n",
      "DP accuracy=0.65\n",
      "############## SVC #############\n",
      "accuracy=78.21%\n",
      "re-weighted accuracy=82.11%\n",
      "DP accuracy=0.64\n"
     ]
    }
   ],
   "source": [
    "############### Remove importace features form the income #############\n",
    "train_x_with_importace_y_olny = balanced_train_x_y[:,top_10_featurese_y]\n",
    "test_x_with_importace_y_only = test_x[:,top_10_featurese_y]\n",
    "\n",
    "############### Remove importace features form the gender #############\n",
    "train_x_with_importace_a_only = balanced_train_x_a[:,top_10_featurese_a]\n",
    "test_x_with_importace_a_only = test_x_without_A[:,top_10_featurese_a]\n",
    "print('------------------ Income ------------------')\n",
    "classifier(train_x_with_importace_y_olny, balanced_train_y , test_x_with_importace_y_only , test_y,  test_a)\n",
    "print('------------------ Gender ------------------')\n",
    "classifier(train_x_with_importace_a_only, balanced_train_a , test_x_with_importace_a_only , test_a,  test_a)"
   ]
  },
  {
   "cell_type": "markdown",
   "metadata": {},
   "source": [
    "## Top features with Tress"
   ]
  },
  {
   "cell_type": "code",
   "execution_count": 36,
   "metadata": {},
   "outputs": [
    {
     "name": "stdout",
     "output_type": "stream",
     "text": [
      "------------------ Income ------------------\n",
      "################ top 10 features ################\n",
      "No:1 hours-per-week P=0.1351\n",
      "No:2 marital-status_Married-civ-spouse P=0.0995\n",
      "No:3 relationship_Husband P=0.0587\n",
      "No:4 capital-gain P=0.0586\n",
      "No:5 marital-status_Never-married P=0.0453\n",
      "No:6 education_num P=0.0413\n",
      "No:7 age_u30 P=0.0338\n",
      "No:8 relationship_Own-child P=0.0242\n",
      "No:9 occupation_Exec-managerial P=0.0220\n",
      "No:10 capital-loss P=0.0217\n",
      "------------------ Gender ------------------\n",
      "################ top 10 features ################\n",
      "No:1 relationship_Husband P=0.2151\n",
      "No:2 capital-gain P=0.1030\n",
      "No:3 marital-status_Married-civ-spouse P=0.0977\n",
      "No:4 relationship_Wife P=0.0776\n",
      "No:5 occupation_Craft-repair P=0.0422\n",
      "No:6 relationship_Unmarried P=0.0377\n",
      "No:7 occupation_Adm-clerical P=0.0270\n",
      "No:8 marital-status_Never-married P=0.0213\n",
      "No:9 marital-status_Divorced P=0.0203\n",
      "No:10 relationship_Not-in-family P=0.0200\n"
     ]
    }
   ],
   "source": [
    "print('------------------ Income ------------------')\n",
    "top_10_featurese_y , top_10_score_y = tress_features (balanced_train_x_y, balanced_train_y)\n",
    "print('------------------ Gender ------------------')\n",
    "top_10_featurese_a , top_10_score_a = tress_features (balanced_train_x_a, balanced_train_a)"
   ]
  },
  {
   "cell_type": "markdown",
   "metadata": {},
   "source": [
    "### Plot"
   ]
  },
  {
   "cell_type": "code",
   "execution_count": 37,
   "metadata": {},
   "outputs": [
    {
     "data": {
      "image/png": "[encoded data removed]",
      "text/plain": [
       "<Figure size 640x480 with 1 Axes>"
      ]
     },
     "metadata": {},
     "output_type": "display_data"
    }
   ],
   "source": [
    "plt.rcdefaults()\n",
    "fig, ax = plt.subplots()\n",
    "y_pos = np.arange(len(headers[top_10_featurese_y]))\n",
    "ax.barh(y_pos, top_10_score_y, align='center')\n",
    "ax.set_yticks(y_pos)\n",
    "ax.set_yticklabels(headers[top_10_featurese_y])\n",
    "ax.invert_yaxis()  # labels read top-to-bottom\n",
    "ax.set_xlabel('Probability')\n",
    "plt.savefig(\"balanced_top_features_y_tress\",dpi= 600 , bbox_inches=\"tight\")\n",
    "plt.show()"
   ]
  },
  {
   "cell_type": "code",
   "execution_count": 38,
   "metadata": {},
   "outputs": [
    {
     "data": {
      "image/png": "[encoded data removed]",
      "text/plain": [
       "<Figure size 640x480 with 1 Axes>"
      ]
     },
     "metadata": {},
     "output_type": "display_data"
    }
   ],
   "source": [
    "plt.rcdefaults()\n",
    "fig, ax = plt.subplots()\n",
    "y_pos = np.arange(len(headers[top_10_featurese_a]))\n",
    "ax.barh(y_pos, top_10_score_a, align='center')\n",
    "ax.set_yticks(y_pos)\n",
    "ax.set_yticklabels(headers[top_10_featurese_a])\n",
    "ax.invert_yaxis()  # labels read top-to-bottom\n",
    "ax.set_xlabel('Probability')\n",
    "plt.savefig(\"balanced_top_features_a_tress\",dpi= 600 , bbox_inches=\"tight\")\n",
    "plt.show()"
   ]
  },
  {
   "cell_type": "markdown",
   "metadata": {},
   "source": [
    "## Train model after removing most importace features  "
   ]
  },
  {
   "cell_type": "code",
   "execution_count": 39,
   "metadata": {},
   "outputs": [
    {
     "name": "stdout",
     "output_type": "stream",
     "text": [
      "------------------ Income ------------------\n",
      "############## Linear SVM #############\n",
      "accuracy=77.56%\n",
      "re-weighted accuracy=80.49%\n",
      "DP accuracy=0.37\n",
      "############## Logistic Regression #############\n",
      "accuracy=77.83%\n",
      "re-weighted accuracy=80.70%\n",
      "DP accuracy=0.36\n",
      "############## Random Forest #############\n",
      "accuracy=74.73%\n",
      "re-weighted accuracy=78.62%\n",
      "DP accuracy=0.45\n",
      "############## SVC #############\n",
      "accuracy=76.86%\n",
      "re-weighted accuracy=80.03%\n",
      "DP accuracy=0.40\n",
      "------------------ Gender ------------------\n",
      "############## Linear SVM #############\n",
      "accuracy=67.09%\n",
      "re-weighted accuracy=67.32%\n",
      "DP accuracy=0.35\n",
      "############## Logistic Regression #############\n"
     ]
    },
    {
     "name": "stderr",
     "output_type": "stream",
     "text": [
      "/home/montaser/anaconda3/lib/python3.6/site-packages/sklearn/linear_model/sag.py:334: ConvergenceWarning: The max_iter was reached which means the coef_ did not converge\n",
      "  \"the coef_ did not converge\", ConvergenceWarning)\n"
     ]
    },
    {
     "name": "stdout",
     "output_type": "stream",
     "text": [
      "accuracy=39.98%\n",
      "re-weighted accuracy=52.71%\n",
      "DP accuracy=0.05\n",
      "############## Random Forest #############\n",
      "accuracy=69.07%\n",
      "re-weighted accuracy=67.64%\n",
      "DP accuracy=0.35\n",
      "############## SVC #############\n",
      "accuracy=64.58%\n",
      "re-weighted accuracy=67.08%\n",
      "DP accuracy=0.34\n"
     ]
    }
   ],
   "source": [
    "############### Remove importace features form the income #############\n",
    "train_x_without_importace_y = np.delete(balanced_train_x_y,top_10_featurese_y,1)\n",
    "test_x_without_importace_y = np.delete(test_x,top_10_featurese_y,1)\n",
    "\n",
    "############### Remove importace features form the gender #############\n",
    "train_x_without_importace_a = np.delete(balanced_train_x_a,top_10_featurese_a,1)\n",
    "test_x_without_importace_a = np.delete(test_x_without_A,top_10_featurese_a,1)\n",
    "print('------------------ Income ------------------')\n",
    "classifier(train_x_without_importace_y, balanced_train_y , test_x_without_importace_y , test_y,  test_a)\n",
    "print('------------------ Gender ------------------')\n",
    "classifier(train_x_without_importace_a, balanced_train_a , test_x_without_importace_a , test_a,  test_a)"
   ]
  },
  {
   "cell_type": "markdown",
   "metadata": {},
   "source": [
    "## Train model with most importace features only"
   ]
  },
  {
   "cell_type": "code",
   "execution_count": 40,
   "metadata": {},
   "outputs": [
    {
     "name": "stdout",
     "output_type": "stream",
     "text": [
      "------------------ Income ------------------\n",
      "############## Linear SVM #############\n",
      "accuracy=73.31%\n",
      "re-weighted accuracy=77.36%\n",
      "DP accuracy=0.46\n",
      "############## Logistic Regression #############\n"
     ]
    },
    {
     "name": "stderr",
     "output_type": "stream",
     "text": [
      "/home/montaser/anaconda3/lib/python3.6/site-packages/sklearn/linear_model/sag.py:334: ConvergenceWarning: The max_iter was reached which means the coef_ did not converge\n",
      "  \"the coef_ did not converge\", ConvergenceWarning)\n"
     ]
    },
    {
     "name": "stdout",
     "output_type": "stream",
     "text": [
      "accuracy=78.13%\n",
      "re-weighted accuracy=80.38%\n",
      "DP accuracy=0.05\n",
      "############## Random Forest #############\n",
      "accuracy=79.72%\n",
      "re-weighted accuracy=82.30%\n",
      "DP accuracy=0.34\n",
      "############## SVC #############\n",
      "accuracy=78.53%\n",
      "re-weighted accuracy=81.01%\n",
      "DP accuracy=0.34\n",
      "------------------ Gender ------------------\n",
      "############## Linear SVM #############\n",
      "accuracy=77.88%\n",
      "re-weighted accuracy=82.69%\n",
      "DP accuracy=0.65\n",
      "############## Logistic Regression #############\n",
      "accuracy=78.04%\n",
      "re-weighted accuracy=82.63%\n",
      "DP accuracy=0.65\n",
      "############## Random Forest #############\n",
      "accuracy=78.51%\n",
      "re-weighted accuracy=82.36%\n",
      "DP accuracy=0.65\n",
      "############## SVC #############\n",
      "accuracy=78.24%\n",
      "re-weighted accuracy=82.23%\n",
      "DP accuracy=0.64\n"
     ]
    }
   ],
   "source": [
    "############### Remove importace features form the income #############\n",
    "train_x_with_importace_y_olny = balanced_train_x_y[:,top_10_featurese_y]\n",
    "test_x_with_importace_y_only = test_x[:,top_10_featurese_y]\n",
    "\n",
    "############### Remove importace features form the gender #############\n",
    "train_x_with_importace_a_only = balanced_train_x_a[:,top_10_featurese_a]\n",
    "test_x_with_importace_a_only = test_x_without_A[:,top_10_featurese_a]\n",
    "print('------------------ Income ------------------')\n",
    "classifier(train_x_with_importace_y_olny, balanced_train_y , test_x_with_importace_y_only , test_y,  test_a)\n",
    "print('------------------ Gender ------------------')\n",
    "classifier(train_x_with_importace_a_only, balanced_train_a , test_x_with_importace_a_only , test_a,  test_a)"
   ]
  },
  {
   "cell_type": "markdown",
   "metadata": {},
   "source": [
    "# Part Two: Representation Learning"
   ]
  },
  {
   "cell_type": "code",
   "execution_count": 41,
   "metadata": {},
   "outputs": [],
   "source": [
    "def normalize_array (a):\n",
    "       return (a - np.mean(a,axis=0))/np.std(a,axis=0)\n",
    "\n",
    "def normalize_gender (x , a):\n",
    "\n",
    "    ones_training = []\n",
    "    zeros_training = []\n",
    "    \n",
    "    for i in range (len(a)):\n",
    "        if x[i,-1] == 1:\n",
    "            ones_training.append(x[i])\n",
    "        else:\n",
    "            zeros_training.append(x[i])\n",
    "    \n",
    "    ones_training , zeros_training = np.array(ones_training) , np.array(zeros_training)\n",
    " \n",
    "        \n",
    "    zeros_training = normalize_array(zeros_training)\n",
    "    ones_training  =  normalize_array(ones_training)\n",
    "    normalize_gender = np.concatenate((ones_training ,  zeros_training) , axis=0)\n",
    "    normalize_gender = np.nan_to_num(normalize_gender) # Nans to zeros\n",
    "    data = normalize_gender\n",
    "    \n",
    "\n",
    "    return data , a"
   ]
  },
  {
   "cell_type": "code",
   "execution_count": 42,
   "metadata": {},
   "outputs": [
    {
     "name": "stdout",
     "output_type": "stream",
     "text": [
      "############## Linear SVM #############\n"
     ]
    },
    {
     "name": "stderr",
     "output_type": "stream",
     "text": [
      "/home/montaser/anaconda3/lib/python3.6/site-packages/ipykernel_launcher.py:2: RuntimeWarning: invalid value encountered in true_divide\n",
      "  \n"
     ]
    },
    {
     "name": "stdout",
     "output_type": "stream",
     "text": [
      "accuracy=37.74%\n",
      "re-weighted accuracy=51.61%\n",
      "DP accuracy=0.03\n",
      "############## Logistic Regression #############\n"
     ]
    },
    {
     "name": "stderr",
     "output_type": "stream",
     "text": [
      "/home/montaser/anaconda3/lib/python3.6/site-packages/sklearn/linear_model/sag.py:334: ConvergenceWarning: The max_iter was reached which means the coef_ did not converge\n",
      "  \"the coef_ did not converge\", ConvergenceWarning)\n"
     ]
    },
    {
     "name": "stdout",
     "output_type": "stream",
     "text": [
      "accuracy=63.41%\n",
      "re-weighted accuracy=48.59%\n",
      "DP accuracy=0.03\n",
      "############## Random Forest #############\n",
      "accuracy=66.70%\n",
      "re-weighted accuracy=50.00%\n",
      "DP accuracy=0.00\n",
      "############## SVC #############\n",
      "accuracy=66.70%\n",
      "re-weighted accuracy=50.00%\n",
      "DP accuracy=0.00\n"
     ]
    }
   ],
   "source": [
    "train_normalize_gender , label_train_normalize_gender = normalize_gender (train_x_without_A, train_a)\n",
    "classifier(train_normalize_gender, label_train_normalize_gender , test_x_without_A , test_a , test_a)"
   ]
  },
  {
   "cell_type": "markdown",
   "metadata": {},
   "source": [
    "# Use Neural Network as classifier"
   ]
  },
  {
   "cell_type": "code",
   "execution_count": 43,
   "metadata": {},
   "outputs": [],
   "source": [
    "class model(nn.Module):\n",
    "    def __init__(self,input_size,n_hidden):\n",
    "        super(model, self).__init__()\n",
    "        self.h1 = nn.Sequential(\n",
    "        nn.Linear(input_size, int(input_size/2)),\n",
    "        nn.ReLU(), \n",
    "        nn.Linear(int(input_size/2), int(input_size/4)),\n",
    "        nn.ReLU(), \n",
    "        nn.Linear(int(input_size/4), int(input_size/8)),\n",
    "        nn.ReLU(), \n",
    "        nn.Linear(int(input_size/8), n_hidden)\n",
    "        ) \n",
    "        \n",
    "        self.o = nn.Sequential( \n",
    "        nn.Linear(n_hidden,1) )\n",
    "        \n",
    "    def forward(self, x):\n",
    "        x = self.h1(x)\n",
    "        x = self.o(x)\n",
    "        return x"
   ]
  },
  {
   "cell_type": "code",
   "execution_count": 44,
   "metadata": {},
   "outputs": [],
   "source": [
    "batch_size = 512\n",
    "input_size = 112\n",
    "n_hidden = 20\n",
    "lr = 1e-2\n",
    "g_classifer = model(input_size,n_hidden)\n",
    "g_optimizer = torch.optim.Adam(g_classifer.parameters(), lr=lr)\n",
    "train_losses = []\n",
    "epoch = 0\n",
    "num_of_epochs = 50"
   ]
  },
  {
   "cell_type": "code",
   "execution_count": 45,
   "metadata": {},
   "outputs": [],
   "source": [
    "def train(epoch, train_model, train_in, train_t, train_optimizer):\n",
    "    train_model.train()\n",
    "    for data,target in zip(train_in.split(batch_size),train_t.split(batch_size)):\n",
    "        output = train_model(data)\n",
    "        loss = F.binary_cross_entropy_with_logits(output,target)\n",
    "        train_optimizer.zero_grad()\n",
    "        loss.backward()\n",
    "        train_optimizer.step()\n",
    "    if(epoch%10 == 0):\n",
    "        train_losses.append(loss.item())\n",
    "        print(\"[EPOCH]: %i, [LOSS]: %.4f\" % (epoch+1, loss.item()))\n",
    "    return train_losses"
   ]
  },
  {
   "cell_type": "code",
   "execution_count": 46,
   "metadata": {},
   "outputs": [],
   "source": [
    "def train_mmd (epoch, train_model, train_in, train_t, train_optimizer , alpha= 0.1):\n",
    "    train_model.train()\n",
    "    for data,target in zip(train_in.split(batch_size),train_t.split(batch_size)):\n",
    "        output = train_model(data)\n",
    "        loss = F.binary_cross_entropy_with_logits(output,target) + alpha*MMD_torch(train_model.h1(data) ,data[:,66] )\n",
    "        train_optimizer.zero_grad()\n",
    "        loss.backward()\n",
    "        train_optimizer.step()\n",
    "    if(epoch%10 == 0):\n",
    "        train_losses.append(loss.item())\n",
    "        print(\"[EPOCH]: %i, [Binary LOSS]: %.4f , [Total LOSS]: %.4f\" % (epoch+1, F.binary_cross_entropy_with_logits(output,target) , loss.item()))\n",
    "    return train_losses"
   ]
  },
  {
   "cell_type": "code",
   "execution_count": 47,
   "metadata": {},
   "outputs": [],
   "source": [
    "def train_mmd_a (epoch, train_model, train_in, train_t, train_optimizer , alpha= 0.1):\n",
    "    train_model.train()\n",
    "    for data,target in zip(train_in.split(batch_size),train_t.split(batch_size)):\n",
    "        data = data[:,0:-1]\n",
    "        output = train_model(data)\n",
    "        loss = F.binary_cross_entropy_with_logits(output,target) + alpha*MMD_torch(train_model.h1(data) , target)\n",
    "        train_optimizer.zero_grad()\n",
    "        loss.backward()\n",
    "        train_optimizer.step()\n",
    "    if(epoch%10 == 0):\n",
    "        train_losses.append(loss.item())\n",
    "        print(\"[EPOCH]: %i, [Binary LOSS]: %.4f , [Total LOSS]: %.4f\" % (epoch+1, F.binary_cross_entropy_with_logits(output,target) , loss.item()))\n",
    "    return train_losses\n",
    "\n",
    "def test_fun_a(test_model, test_x, test_y, test_a):\n",
    "    with torch.no_grad():\n",
    "        test_model.eval()\n",
    "        h_hat = test_model(test_x[:,0:-1])\n",
    "        y_hat = np.zeros(len(test_y))\n",
    "        for i in range (len(h_hat)):\n",
    "            if torch.sigmoid(h_hat[i]) >= 0.5:\n",
    "                y_hat [i] = 1\n",
    "            else:\n",
    "                y_hat [i] = 0\n",
    "        all_accuarcy_fun ( test_y,  y_hat , test_a)"
   ]
  },
  {
   "cell_type": "code",
   "execution_count": 48,
   "metadata": {},
   "outputs": [],
   "source": [
    "def test(test_model, test_x, test_y, test_a):\n",
    "    with torch.no_grad():\n",
    "        test_model.eval()\n",
    "        h_hat = test_model(test_x)\n",
    "        y_hat = np.zeros(len(test_y))\n",
    "        for i in range (len(h_hat)):\n",
    "            if torch.sigmoid(h_hat[i]) >= 0.5:\n",
    "                y_hat [i] = 1\n",
    "            else:\n",
    "                y_hat [i] = 0\n",
    "        all_accuarcy_fun ( test_y,  y_hat , test_a)"
   ]
  },
  {
   "cell_type": "code",
   "execution_count": 49,
   "metadata": {},
   "outputs": [],
   "source": [
    "train_x_without_females = np.delete(train_x, 66, 1)\n",
    "test_x_without_females = np.delete(test_x, 66, 1)\n",
    "g_optimizer = torch.optim.Adam(g_classifer.parameters(), lr= 2e-3)"
   ]
  },
  {
   "cell_type": "markdown",
   "metadata": {},
   "source": [
    "## Predict Income (Y) "
   ]
  },
  {
   "cell_type": "markdown",
   "metadata": {},
   "source": [
    "### $\\alpha=0.00$"
   ]
  },
  {
   "cell_type": "code",
   "execution_count": 50,
   "metadata": {},
   "outputs": [
    {
     "name": "stdout",
     "output_type": "stream",
     "text": [
      "[EPOCH]: 1, [LOSS]: 0.4677\n",
      "[EPOCH]: 11, [LOSS]: 0.2806\n",
      "[EPOCH]: 21, [LOSS]: 0.2634\n",
      "[EPOCH]: 31, [LOSS]: 0.2522\n",
      "[EPOCH]: 41, [LOSS]: 0.2484\n",
      "accuracy=85.17%\n",
      "re-weighted accuracy=86.97%\n",
      "DP accuracy=0.20\n"
     ]
    }
   ],
   "source": [
    "g_classifer = model(input_size,n_hidden)\n",
    "g_optimizer = torch.optim.Adam(g_classifer.parameters(), lr= 2e-3)\n",
    "for epoch in range(num_of_epochs):\n",
    "    train_loss_binary = train(epoch, g_classifer, torch.tensor(train_x_without_females, dtype=torch.float), torch.tensor(train_y , dtype=torch.float), g_optimizer)\n",
    "    \n",
    "test(g_classifer, torch.tensor(test_x_without_females, dtype=torch.float), torch.tensor(test_y, dtype=torch.float), torch.tensor(test_a, dtype=torch.float))"
   ]
  },
  {
   "cell_type": "markdown",
   "metadata": {},
   "source": [
    "### $\\alpha=0.10$"
   ]
  },
  {
   "cell_type": "code",
   "execution_count": 52,
   "metadata": {},
   "outputs": [
    {
     "name": "stdout",
     "output_type": "stream",
     "text": [
      "[EPOCH]: 1, [Binary LOSS]: 0.4663 , [Total LOSS]: 0.4675\n",
      "[EPOCH]: 11, [Binary LOSS]: 0.2679 , [Total LOSS]: 0.2706\n",
      "[EPOCH]: 21, [Binary LOSS]: 0.2546 , [Total LOSS]: 0.2569\n",
      "[EPOCH]: 31, [Binary LOSS]: 0.2461 , [Total LOSS]: 0.2483\n",
      "[EPOCH]: 41, [Binary LOSS]: 0.2319 , [Total LOSS]: 0.2341\n",
      "accuracy=85.03%\n",
      "re-weighted accuracy=86.89%\n",
      "DP accuracy=0.19\n"
     ]
    }
   ],
   "source": [
    "g_classifer = model(input_size,n_hidden)\n",
    "g_optimizer = torch.optim.Adam(g_classifer.parameters(), lr= 2e-3)\n",
    "for epoch in range(num_of_epochs):\n",
    "    train_loss_01 = train_mmd(epoch, g_classifer, torch.tensor(train_x_without_females, dtype=torch.float), torch.tensor(train_y , dtype=torch.float), g_optimizer , alpha=0.1)\n",
    "test(g_classifer, torch.tensor(test_x_without_females, dtype=torch.float), torch.tensor(test_y, dtype=torch.float), torch.tensor(test_a, dtype=torch.float))"
   ]
  },
  {
   "cell_type": "markdown",
   "metadata": {},
   "source": [
    "### $\\alpha=0.20$"
   ]
  },
  {
   "cell_type": "code",
   "execution_count": 53,
   "metadata": {},
   "outputs": [
    {
     "name": "stdout",
     "output_type": "stream",
     "text": [
      "[EPOCH]: 1, [Binary LOSS]: 0.4780 , [Total LOSS]: 0.4799\n",
      "[EPOCH]: 11, [Binary LOSS]: 0.2852 , [Total LOSS]: 0.2893\n",
      "[EPOCH]: 21, [Binary LOSS]: 0.2736 , [Total LOSS]: 0.2777\n",
      "[EPOCH]: 31, [Binary LOSS]: 0.2629 , [Total LOSS]: 0.2667\n",
      "[EPOCH]: 41, [Binary LOSS]: 0.2508 , [Total LOSS]: 0.2542\n",
      "accuracy=85.25%\n",
      "re-weighted accuracy=87.08%\n",
      "DP accuracy=0.20\n"
     ]
    }
   ],
   "source": [
    "g_classifer = model(input_size,n_hidden)\n",
    "g_optimizer = torch.optim.Adam(g_classifer.parameters(), lr= 2e-3)\n",
    "for epoch in range(num_of_epochs):\n",
    "    train_loss_2 = train_mmd(epoch, g_classifer, torch.tensor(train_x_without_females, dtype=torch.float), torch.tensor(train_y , dtype=torch.float), g_optimizer , alpha=0.2)\n",
    "test(g_classifer, torch.tensor(test_x_without_females, dtype=torch.float), torch.tensor(test_y, dtype=torch.float), torch.tensor(test_a, dtype=torch.float))"
   ]
  },
  {
   "cell_type": "markdown",
   "metadata": {},
   "source": [
    "### $\\alpha=0.50$"
   ]
  },
  {
   "cell_type": "code",
   "execution_count": 54,
   "metadata": {},
   "outputs": [
    {
     "name": "stdout",
     "output_type": "stream",
     "text": [
      "[EPOCH]: 1, [Binary LOSS]: 0.4804 , [Total LOSS]: 0.4863\n",
      "[EPOCH]: 11, [Binary LOSS]: 0.2732 , [Total LOSS]: 0.2815\n",
      "[EPOCH]: 21, [Binary LOSS]: 0.2784 , [Total LOSS]: 0.2862\n",
      "[EPOCH]: 31, [Binary LOSS]: 0.2622 , [Total LOSS]: 0.2700\n",
      "[EPOCH]: 41, [Binary LOSS]: 0.2471 , [Total LOSS]: 0.2550\n",
      "accuracy=85.31%\n",
      "re-weighted accuracy=87.16%\n",
      "DP accuracy=0.19\n"
     ]
    }
   ],
   "source": [
    "g_classifer = model(input_size,n_hidden)\n",
    "g_optimizer = torch.optim.Adam(g_classifer.parameters(), lr= 2e-3)\n",
    "for epoch in range(num_of_epochs):\n",
    "    train_loss_5 = train_mmd(epoch, g_classifer, torch.tensor(train_x_without_females, dtype=torch.float), torch.tensor(train_y , dtype=torch.float), g_optimizer , alpha=0.5)\n",
    "test(g_classifer, torch.tensor(test_x_without_females, dtype=torch.float), torch.tensor(test_y, dtype=torch.float), torch.tensor(test_a, dtype=torch.float))"
   ]
  },
  {
   "cell_type": "markdown",
   "metadata": {},
   "source": [
    "### $\\alpha=0.70$"
   ]
  },
  {
   "cell_type": "code",
   "execution_count": 55,
   "metadata": {},
   "outputs": [
    {
     "name": "stdout",
     "output_type": "stream",
     "text": [
      "[EPOCH]: 1, [Binary LOSS]: 0.4874 , [Total LOSS]: 0.4953\n",
      "[EPOCH]: 11, [Binary LOSS]: 0.2870 , [Total LOSS]: 0.2991\n",
      "[EPOCH]: 21, [Binary LOSS]: 0.2660 , [Total LOSS]: 0.2772\n",
      "[EPOCH]: 31, [Binary LOSS]: 0.2661 , [Total LOSS]: 0.2776\n",
      "[EPOCH]: 41, [Binary LOSS]: 0.2564 , [Total LOSS]: 0.2680\n",
      "accuracy=85.25%\n",
      "re-weighted accuracy=87.02%\n",
      "DP accuracy=0.18\n"
     ]
    }
   ],
   "source": [
    "g_classifer = model(input_size,n_hidden)\n",
    "g_optimizer = torch.optim.Adam(g_classifer.parameters(), lr= 2e-3)\n",
    "for epoch in range(num_of_epochs):\n",
    "    train_loss_7 = train_mmd(epoch, g_classifer, torch.tensor(train_x_without_females, dtype=torch.float), torch.tensor(train_y , dtype=torch.float), g_optimizer , alpha=0.7)\n",
    "test(g_classifer, torch.tensor(test_x_without_females, dtype=torch.float), torch.tensor(test_y, dtype=torch.float), torch.tensor(test_a, dtype=torch.float))"
   ]
  },
  {
   "cell_type": "markdown",
   "metadata": {},
   "source": [
    "### $\\alpha=1.00$"
   ]
  },
  {
   "cell_type": "code",
   "execution_count": 51,
   "metadata": {},
   "outputs": [
    {
     "name": "stdout",
     "output_type": "stream",
     "text": [
      "[EPOCH]: 1, [Binary LOSS]: 0.4616 , [Total LOSS]: 0.4668\n",
      "[EPOCH]: 11, [Binary LOSS]: 0.2878 , [Total LOSS]: 0.3033\n",
      "[EPOCH]: 21, [Binary LOSS]: 0.2662 , [Total LOSS]: 0.2826\n",
      "[EPOCH]: 31, [Binary LOSS]: 0.2537 , [Total LOSS]: 0.2690\n",
      "[EPOCH]: 41, [Binary LOSS]: 0.2520 , [Total LOSS]: 0.2676\n",
      "accuracy=85.31%\n",
      "re-weighted accuracy=87.11%\n",
      "DP accuracy=0.18\n"
     ]
    }
   ],
   "source": [
    "g_classifer = model(input_size,n_hidden)\n",
    "g_optimizer = torch.optim.Adam(g_classifer.parameters(), lr= 2e-3)\n",
    "for epoch in range(num_of_epochs):\n",
    "    train_loss_1 = train_mmd(epoch, g_classifer, torch.tensor(train_x_without_females, dtype=torch.float), torch.tensor(train_y , dtype=torch.float), g_optimizer , alpha=1)\n",
    "test(g_classifer, torch.tensor(test_x_without_females, dtype=torch.float), torch.tensor(test_y, dtype=torch.float), torch.tensor(test_a, dtype=torch.float))"
   ]
  },
  {
   "cell_type": "markdown",
   "metadata": {},
   "source": [
    "### $\\alpha=10.00$"
   ]
  },
  {
   "cell_type": "code",
   "execution_count": 56,
   "metadata": {},
   "outputs": [
    {
     "name": "stdout",
     "output_type": "stream",
     "text": [
      "[EPOCH]: 1, [Binary LOSS]: 0.4981 , [Total LOSS]: 0.5780\n",
      "[EPOCH]: 11, [Binary LOSS]: 0.3528 , [Total LOSS]: 0.4100\n",
      "[EPOCH]: 21, [Binary LOSS]: 0.3141 , [Total LOSS]: 0.3827\n",
      "[EPOCH]: 31, [Binary LOSS]: 0.3028 , [Total LOSS]: 0.3523\n",
      "[EPOCH]: 41, [Binary LOSS]: 0.2967 , [Total LOSS]: 0.3526\n",
      "accuracy=84.05%\n",
      "re-weighted accuracy=85.63%\n",
      "DP accuracy=0.06\n"
     ]
    }
   ],
   "source": [
    "g_classifer = model(input_size,n_hidden)\n",
    "g_optimizer = torch.optim.Adam(g_classifer.parameters(), lr= 2e-3)\n",
    "for epoch in range(num_of_epochs):\n",
    "    train_loss_10 = train_mmd(epoch, g_classifer, torch.tensor(train_x_without_females, dtype=torch.float), torch.tensor(train_y , dtype=torch.float), g_optimizer , alpha=10.0)\n",
    "test(g_classifer, torch.tensor(test_x_without_females, dtype=torch.float), torch.tensor(test_y, dtype=torch.float), torch.tensor(test_a, dtype=torch.float))"
   ]
  },
  {
   "cell_type": "markdown",
   "metadata": {},
   "source": [
    "### $\\alpha=100.00$"
   ]
  },
  {
   "cell_type": "code",
   "execution_count": 57,
   "metadata": {},
   "outputs": [
    {
     "name": "stdout",
     "output_type": "stream",
     "text": [
      "[EPOCH]: 1, [Binary LOSS]: 0.5285 , [Total LOSS]: 0.9771\n",
      "[EPOCH]: 11, [Binary LOSS]: 0.4607 , [Total LOSS]: 0.6592\n",
      "[EPOCH]: 21, [Binary LOSS]: 0.5053 , [Total LOSS]: 0.6065\n",
      "[EPOCH]: 31, [Binary LOSS]: 0.5055 , [Total LOSS]: 0.5938\n",
      "[EPOCH]: 41, [Binary LOSS]: 0.5065 , [Total LOSS]: 0.6033\n",
      "accuracy=76.57%\n",
      "re-weighted accuracy=79.71%\n",
      "DP accuracy=0.01\n"
     ]
    }
   ],
   "source": [
    "g_classifer = model(input_size,n_hidden)\n",
    "g_optimizer = torch.optim.Adam(g_classifer.parameters(), lr= 2e-3)\n",
    "for epoch in range(num_of_epochs):\n",
    "    train_loss_10 = train_mmd(epoch, g_classifer, torch.tensor(train_x_without_females, dtype=torch.float), torch.tensor(train_y , dtype=torch.float), g_optimizer , alpha=100.0)\n",
    "test(g_classifer, torch.tensor(test_x_without_females, dtype=torch.float), torch.tensor(test_y, dtype=torch.float), torch.tensor(test_a, dtype=torch.float))"
   ]
  },
  {
   "cell_type": "markdown",
   "metadata": {},
   "source": [
    "## Q:3.3 Predict Gender "
   ]
  },
  {
   "cell_type": "markdown",
   "metadata": {},
   "source": [
    "### $\\alpha=0.00$"
   ]
  },
  {
   "cell_type": "code",
   "execution_count": 59,
   "metadata": {},
   "outputs": [
    {
     "name": "stdout",
     "output_type": "stream",
     "text": [
      "[EPOCH]: 1, [LOSS]: 0.3814\n",
      "[EPOCH]: 11, [LOSS]: 0.3517\n",
      "[EPOCH]: 21, [LOSS]: 0.3381\n",
      "[EPOCH]: 31, [LOSS]: 0.3382\n",
      "[EPOCH]: 41, [LOSS]: 0.3356\n",
      "accuracy=82.65%\n",
      "re-weighted accuracy=80.61%\n",
      "DP accuracy=0.61\n"
     ]
    }
   ],
   "source": [
    "g_classifer = model(input_size-1,n_hidden)\n",
    "g_optimizer = torch.optim.Adam(g_classifer.parameters(), lr= 1e-1)\n",
    "for epoch in range(num_of_epochs):\n",
    "    train_loss_7 = train(epoch, g_classifer, torch.tensor(train_x_without_A, dtype=torch.float), torch.tensor(train_a , dtype=torch.float), g_optimizer)\n",
    "test(g_classifer, torch.tensor(test_x_without_A, dtype=torch.float), torch.tensor(test_a, dtype=torch.float), torch.tensor(test_a, dtype=torch.float))"
   ]
  },
  {
   "cell_type": "markdown",
   "metadata": {},
   "source": [
    "### $\\alpha=0.10$"
   ]
  },
  {
   "cell_type": "code",
   "execution_count": 60,
   "metadata": {},
   "outputs": [
    {
     "name": "stdout",
     "output_type": "stream",
     "text": [
      "[EPOCH]: 1, [Binary LOSS]: 0.6587 , [Total LOSS]: 0.6587\n",
      "[EPOCH]: 11, [Binary LOSS]: 0.6533 , [Total LOSS]: 0.6533\n",
      "[EPOCH]: 21, [Binary LOSS]: 0.6546 , [Total LOSS]: 0.6546\n",
      "[EPOCH]: 31, [Binary LOSS]: 0.6461 , [Total LOSS]: 0.6461\n",
      "[EPOCH]: 41, [Binary LOSS]: 0.6512 , [Total LOSS]: 0.6512\n",
      "accuracy=66.70%\n",
      "re-weighted accuracy=50.00%\n",
      "DP accuracy=0.00\n"
     ]
    }
   ],
   "source": [
    "train_x_with_label = np.concatenate((train_x_without_A, train_a), axis=1)\n",
    "test_x_with_label = np.concatenate((test_x_without_A, test_a), axis=1)\n",
    "\n",
    "g_classifer = model(input_size-1,n_hidden)\n",
    "g_optimizer = torch.optim.Adam(g_classifer.parameters(), lr= 1e-1)\n",
    "for epoch in range(num_of_epochs):\n",
    "    train_loss_7 = train_mmd_a(epoch, g_classifer, torch.tensor(train_x_with_label, dtype=torch.float), torch.tensor(train_a , dtype=torch.float), g_optimizer, alpha=0.1)\n",
    "test_fun_a(g_classifer, torch.tensor(test_x_with_label, dtype=torch.float), torch.tensor(test_a, dtype=torch.float), torch.tensor(test_a, dtype=torch.float))"
   ]
  },
  {
   "cell_type": "markdown",
   "metadata": {},
   "source": [
    "### $\\alpha=0.20$"
   ]
  },
  {
   "cell_type": "code",
   "execution_count": 61,
   "metadata": {},
   "outputs": [
    {
     "name": "stdout",
     "output_type": "stream",
     "text": [
      "[EPOCH]: 1, [Binary LOSS]: 0.6487 , [Total LOSS]: 0.6487\n",
      "[EPOCH]: 11, [Binary LOSS]: 0.6463 , [Total LOSS]: 0.6463\n",
      "[EPOCH]: 21, [Binary LOSS]: 0.6466 , [Total LOSS]: 0.6466\n",
      "[EPOCH]: 31, [Binary LOSS]: 0.6497 , [Total LOSS]: 0.6497\n",
      "[EPOCH]: 41, [Binary LOSS]: 0.6470 , [Total LOSS]: 0.6470\n",
      "accuracy=66.70%\n",
      "re-weighted accuracy=50.00%\n",
      "DP accuracy=0.00\n"
     ]
    }
   ],
   "source": [
    "g_classifer = model(input_size-1,n_hidden)\n",
    "g_optimizer = torch.optim.Adam(g_classifer.parameters(), lr= 1e-1)\n",
    "for epoch in range(num_of_epochs):\n",
    "    train_loss_7 = train_mmd_a(epoch, g_classifer, torch.tensor(train_x_with_label, dtype=torch.float), torch.tensor(train_a , dtype=torch.float), g_optimizer, alpha=0.2)\n",
    "test_fun_a(g_classifer, torch.tensor(test_x_with_label, dtype=torch.float), torch.tensor(test_a, dtype=torch.float), torch.tensor(test_a, dtype=torch.float))"
   ]
  },
  {
   "cell_type": "markdown",
   "metadata": {},
   "source": [
    "### $\\alpha=0.50$"
   ]
  },
  {
   "cell_type": "code",
   "execution_count": 62,
   "metadata": {},
   "outputs": [
    {
     "name": "stdout",
     "output_type": "stream",
     "text": [
      "[EPOCH]: 1, [Binary LOSS]: 0.6554 , [Total LOSS]: 0.6554\n",
      "[EPOCH]: 11, [Binary LOSS]: 0.6585 , [Total LOSS]: 0.6585\n",
      "[EPOCH]: 21, [Binary LOSS]: 0.6579 , [Total LOSS]: 0.6579\n",
      "[EPOCH]: 31, [Binary LOSS]: 0.6557 , [Total LOSS]: 0.6557\n",
      "[EPOCH]: 41, [Binary LOSS]: 0.6536 , [Total LOSS]: 0.6536\n",
      "accuracy=66.70%\n",
      "re-weighted accuracy=50.00%\n",
      "DP accuracy=0.00\n"
     ]
    }
   ],
   "source": [
    "g_classifer = model(input_size-1,n_hidden)\n",
    "g_optimizer = torch.optim.Adam(g_classifer.parameters(),  lr= 1e-1)\n",
    "for epoch in range(num_of_epochs):\n",
    "    train_loss_7 = train_mmd_a(epoch, g_classifer, torch.tensor(train_x_with_label, dtype=torch.float), torch.tensor(train_a , dtype=torch.float), g_optimizer, alpha=0.5)\n",
    "test_fun_a(g_classifer, torch.tensor(test_x_with_label, dtype=torch.float), torch.tensor(test_a, dtype=torch.float), torch.tensor(test_a, dtype=torch.float))"
   ]
  },
  {
   "cell_type": "markdown",
   "metadata": {},
   "source": [
    "### $\\alpha=0.70$"
   ]
  },
  {
   "cell_type": "code",
   "execution_count": 63,
   "metadata": {},
   "outputs": [
    {
     "name": "stdout",
     "output_type": "stream",
     "text": [
      "[EPOCH]: 1, [Binary LOSS]: 0.6490 , [Total LOSS]: 0.6490\n",
      "[EPOCH]: 11, [Binary LOSS]: 0.6467 , [Total LOSS]: 0.6467\n",
      "[EPOCH]: 21, [Binary LOSS]: 0.6506 , [Total LOSS]: 0.6506\n",
      "[EPOCH]: 31, [Binary LOSS]: 0.6469 , [Total LOSS]: 0.6469\n",
      "[EPOCH]: 41, [Binary LOSS]: 0.6468 , [Total LOSS]: 0.6468\n",
      "accuracy=66.70%\n",
      "re-weighted accuracy=50.00%\n",
      "DP accuracy=0.00\n"
     ]
    }
   ],
   "source": [
    "g_classifer = model(input_size-1,n_hidden)\n",
    "g_optimizer = torch.optim.Adam(g_classifer.parameters(), lr= 1e-1)\n",
    "for epoch in range(num_of_epochs):\n",
    "    train_loss_7 = train_mmd_a(epoch, g_classifer, torch.tensor(train_x_with_label, dtype=torch.float), torch.tensor(train_a , dtype=torch.float), g_optimizer, alpha=0.7)\n",
    "test_fun_a(g_classifer, torch.tensor(test_x_with_label, dtype=torch.float), torch.tensor(test_a, dtype=torch.float), torch.tensor(test_a, dtype=torch.float))"
   ]
  },
  {
   "cell_type": "markdown",
   "metadata": {},
   "source": [
    "### $\\alpha=1.00$"
   ]
  },
  {
   "cell_type": "code",
   "execution_count": 64,
   "metadata": {},
   "outputs": [
    {
     "name": "stdout",
     "output_type": "stream",
     "text": [
      "[EPOCH]: 1, [Binary LOSS]: 0.6503 , [Total LOSS]: 0.6503\n",
      "[EPOCH]: 11, [Binary LOSS]: 0.6467 , [Total LOSS]: 0.6467\n",
      "[EPOCH]: 21, [Binary LOSS]: 0.6466 , [Total LOSS]: 0.6467\n",
      "[EPOCH]: 31, [Binary LOSS]: 0.6475 , [Total LOSS]: 0.6475\n",
      "[EPOCH]: 41, [Binary LOSS]: 0.6515 , [Total LOSS]: 0.6516\n",
      "accuracy=66.70%\n",
      "re-weighted accuracy=50.00%\n",
      "DP accuracy=0.00\n"
     ]
    }
   ],
   "source": [
    "g_classifer = model(input_size-1,n_hidden)\n",
    "g_optimizer = torch.optim.Adam(g_classifer.parameters(), lr= 1e-1)\n",
    "for epoch in range(num_of_epochs):\n",
    "    train_loss_7 = train_mmd_a(epoch, g_classifer, torch.tensor(train_x_with_label, dtype=torch.float), torch.tensor(train_a , dtype=torch.float), g_optimizer, alpha=1.0)\n",
    "test_fun_a(g_classifer, torch.tensor(test_x_with_label, dtype=torch.float), torch.tensor(test_a, dtype=torch.float), torch.tensor(test_a, dtype=torch.float))"
   ]
  },
  {
   "cell_type": "markdown",
   "metadata": {},
   "source": [
    "### $\\alpha=10.00$"
   ]
  },
  {
   "cell_type": "code",
   "execution_count": 65,
   "metadata": {},
   "outputs": [
    {
     "name": "stdout",
     "output_type": "stream",
     "text": [
      "[EPOCH]: 1, [Binary LOSS]: 0.6508 , [Total LOSS]: 0.6508\n",
      "[EPOCH]: 11, [Binary LOSS]: 0.6462 , [Total LOSS]: 0.6462\n",
      "[EPOCH]: 21, [Binary LOSS]: 0.6467 , [Total LOSS]: 0.6467\n",
      "[EPOCH]: 31, [Binary LOSS]: 0.6489 , [Total LOSS]: 0.6489\n",
      "[EPOCH]: 41, [Binary LOSS]: 0.6468 , [Total LOSS]: 0.6468\n",
      "accuracy=66.70%\n",
      "re-weighted accuracy=50.00%\n",
      "DP accuracy=0.00\n"
     ]
    }
   ],
   "source": [
    "g_classifer = model(input_size-1,n_hidden)\n",
    "g_optimizer = torch.optim.Adam(g_classifer.parameters(), lr= 1e-1)\n",
    "for epoch in range(num_of_epochs):\n",
    "    train_loss_7 = train_mmd_a(epoch, g_classifer, torch.tensor(train_x_with_label, dtype=torch.float), torch.tensor(train_a , dtype=torch.float), g_optimizer, alpha=10.0)\n",
    "test_fun_a(g_classifer, torch.tensor(test_x_with_label, dtype=torch.float), torch.tensor(test_a, dtype=torch.float), torch.tensor(test_a, dtype=torch.float))"
   ]
  },
  {
   "cell_type": "markdown",
   "metadata": {},
   "source": [
    "### $\\alpha=100.00$"
   ]
  },
  {
   "cell_type": "code",
   "execution_count": 66,
   "metadata": {},
   "outputs": [
    {
     "name": "stdout",
     "output_type": "stream",
     "text": [
      "[EPOCH]: 1, [Binary LOSS]: 0.6519 , [Total LOSS]: 0.6519\n",
      "[EPOCH]: 11, [Binary LOSS]: 0.6465 , [Total LOSS]: 0.6465\n",
      "[EPOCH]: 21, [Binary LOSS]: 0.6483 , [Total LOSS]: 0.6483\n",
      "[EPOCH]: 31, [Binary LOSS]: 0.6467 , [Total LOSS]: 0.6467\n",
      "[EPOCH]: 41, [Binary LOSS]: 0.6469 , [Total LOSS]: 0.6469\n",
      "accuracy=66.70%\n",
      "re-weighted accuracy=50.00%\n",
      "DP accuracy=0.00\n"
     ]
    }
   ],
   "source": [
    "g_classifer = model(input_size-1,n_hidden)\n",
    "g_optimizer = torch.optim.Adam(g_classifer.parameters(), lr= 1e-1)\n",
    "for epoch in range(num_of_epochs):\n",
    "    train_loss_7 = train_mmd_a(epoch, g_classifer, torch.tensor(train_x_with_label, dtype=torch.float), torch.tensor(train_a , dtype=torch.float), g_optimizer, alpha=100.0)\n",
    "test_fun_a(g_classifer, torch.tensor(test_x_with_label, dtype=torch.float), torch.tensor(test_a, dtype=torch.float), torch.tensor(test_a, dtype=torch.float))"
   ]
  },
  {
   "cell_type": "code",
   "execution_count": null,
   "metadata": {},
   "outputs": [],
   "source": []
  }
 ],
 "metadata": {
  "kernelspec": {
   "display_name": "Python 3",
   "language": "python",
   "name": "python3"
  },
  "language_info": {
   "codemirror_mode": {
    "name": "ipython",
    "version": 3
   },
   "file_extension": ".py",
   "mimetype": "text/x-python",
   "name": "python",
   "nbconvert_exporter": "python",
   "pygments_lexer": "ipython3",
   "version": "3.6.7"
  }
 },
 "nbformat": 4,
 "nbformat_minor": 2
}
